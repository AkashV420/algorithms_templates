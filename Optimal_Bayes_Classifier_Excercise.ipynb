{
  "nbformat": 4,
  "nbformat_minor": 0,
  "metadata": {
    "kernelspec": {
      "display_name": "Python 3",
      "language": "python",
      "name": "python3"
    },
    "language_info": {
      "codemirror_mode": {
        "name": "ipython",
        "version": 3
      },
      "file_extension": ".py",
      "mimetype": "text/x-python",
      "name": "python",
      "nbconvert_exporter": "python",
      "pygments_lexer": "ipython3",
      "version": "3.7.3"
    },
    "colab": {
      "name": "Optimal Bayes Classifier Excercise.ipynb",
      "provenance": []
    }
  },
  "cells": [
    {
      "cell_type": "markdown",
      "metadata": {
        "id": "mFQHH7nIs1n1",
        "colab_type": "text"
      },
      "source": [
        "# Optimal Bayes Classifier - Excercise Notebook\n",
        "\n",
        "\n",
        "### Comparing Optimal Bayes and Naive Bayes using simulated Gaussian data for non-zero covariance."
      ]
    },
    {
      "cell_type": "markdown",
      "metadata": {
        "id": "TGr-tW7Gs1n4",
        "colab_type": "text"
      },
      "source": [
        "#### Imports"
      ]
    },
    {
      "cell_type": "code",
      "metadata": {
        "id": "dZDLUgWPs1n6",
        "colab_type": "code",
        "colab": {
          "base_uri": "https://localhost:8080/",
          "height": 51
        },
        "outputId": "11a126c9-617b-422a-ac33-9a67a4f3079f"
      },
      "source": [
        "import numpy as np\n",
        "import pandas as pd\n",
        "from matplotlib import pyplot as plt\n",
        "import matplotlib.colors as colors\n",
        "import seaborn as sns\n",
        "import itertools\n",
        "from scipy.stats import norm\n",
        "import scipy.stats\n",
        "from sklearn.naive_bayes import GaussianNB\n",
        "\n",
        "%matplotlib inline\n",
        "sns.set()"
      ],
      "execution_count": 2,
      "outputs": [
        {
          "output_type": "stream",
          "text": [
            "/usr/local/lib/python3.6/dist-packages/statsmodels/tools/_testing.py:19: FutureWarning: pandas.util.testing is deprecated. Use the functions in the public API at pandas.testing instead.\n",
            "  import pandas.util.testing as tm\n"
          ],
          "name": "stderr"
        }
      ]
    },
    {
      "cell_type": "markdown",
      "metadata": {
        "id": "r_BBNWxms1oE",
        "colab_type": "text"
      },
      "source": [
        "#### Data Generation"
      ]
    },
    {
      "cell_type": "code",
      "metadata": {
        "id": "VTGQXkXts1oG",
        "colab_type": "code",
        "colab": {}
      },
      "source": [
        "\n",
        "\n",
        "# Data generation\n",
        "\n",
        "#data of Gaussian Distributions\n",
        "#distribution 1\n",
        "mu1 = [2, 2]\n",
        "sigma1 = [[5, 0], [0, 5]] # Notice the 0 covariance\n",
        "x1, y1 = np.random.multivariate_normal(mu1, sigma1, 100).T\n",
        "\n",
        "#distribution 2\n",
        "mu2 = [-2, -2]\n",
        "sigma2 = [[3, 0], [0, 3]] # Notice the 0 covariance\n",
        "x2, y2 = np.random.multivariate_normal(mu2, sigma2, 100).T\n",
        "\n"
      ],
      "execution_count": 8,
      "outputs": []
    },
    {
      "cell_type": "markdown",
      "metadata": {
        "id": "b5xTW2IQs1oO",
        "colab_type": "text"
      },
      "source": [
        "#### Excercise: A) Plot the decision boundary"
      ]
    },
    {
      "cell_type": "code",
      "metadata": {
        "id": "LC9-GFG9s1oP",
        "colab_type": "code",
        "colab": {
          "base_uri": "https://localhost:8080/",
          "height": 464
        },
        "outputId": "74f05fcb-96a9-4901-87b6-697e115d802b"
      },
      "source": [
        "#%%%%%%%%%%%%%% Excercise: Write the code below %%%%%%%%%%%%%%%%%%%%%%%%%\n",
        "\"\"\"\n",
        "Code for comparing the decision boundary for the optimal and the naive Bayes classifiers goes here\n",
        "\"\"\"\n",
        "\n",
        "from sklearn.naive_bayes import GaussianNB\n",
        "\n",
        "\n",
        "np.random.seed(seed = 2) # seeding for unique random guasian \n",
        "\n",
        "\n",
        "def predict_Bayes_class(X,mu_list,sigma_list): \n",
        "    #Returns the predicted class from an optimal bayes classifier - distributions must be known\n",
        "    scores_list = []\n",
        "    \n",
        "    for p in range(2):\n",
        "        score = scipy.stats.multivariate_normal.pdf(X, mean=mu_list[p], cov=sigma_list[p])\n",
        "        scores_list.append(score)\n",
        "             \n",
        "    return np.argmax(scores_list)\n",
        "\n",
        "def res(x,y):\n",
        "  return x.reshape(y)\n",
        "\n",
        "N = 100\n",
        "X = np.linspace(-8, 8, N)\n",
        "Y = np.linspace(-8, 8, N)\n",
        "X, Y = np.meshgrid(X, Y)\n",
        "\n",
        "fig = plt.figure(figsize = (16,7))\n",
        "ax = fig.add_subplot(1, 2, 1)\n",
        "\n",
        "\n",
        "zz = np.array(  [ predict_Bayes_class(np.array([xx,yy]), [mu1,mu2],[sigma1,sigma2]) \n",
        "                     for xx, yy in zip(np.ravel(X), np.ravel(Y)) ] )\n",
        "\n",
        "Z = res(zz,X.shape)\n",
        "\n",
        "ax.contour( X, Y, Z, 1, alpha = .3, colors = ('darkblue','darkgreen'))\n",
        "ax.contourf( X, Y, Z, 1, alpha = .1, colors = ('darkblue','darkgreen'))\n",
        "\n",
        "\n",
        "X_data = np.asarray(np.vstack((np.hstack((x1,x2)),np.hstack((y1,y2)))).T)\n",
        "y_labels = np.hstack((np.zeros(100),np.ones(100)))\n",
        "\n",
        "model_sk = GaussianNB(priors = None)\n",
        "model_sk.fit(X_data,y_labels)\n",
        "\n",
        "zz = np.array(  [model_sk.predict( [[xx,yy]])[0] for xx, yy in zip(np.ravel(X), np.ravel(Y)) ] )\n",
        "\n",
        "#Reshaping \n",
        "Z = res(zz,X.shape)\n",
        "\n",
        "ax.contour( X, Y, Z, 1, alpha = .3)\n",
        "ax.scatter(x1, y1, alpha = .7)\n",
        "ax.scatter(x2, y2, alpha = .7)\n",
        "ax.set_xlabel('x')\n",
        "ax.set_ylabel('y')\n",
        "ax.set_title('descision boundry')\n",
        "\n",
        "\n",
        "\n",
        "plt.show()\n"
      ],
      "execution_count": 33,
      "outputs": [
        {
          "output_type": "display_data",
          "data": {
            "image/png": "[encoded data removed]",
            "text/plain": [
              "<Figure size 1152x504 with 1 Axes>"
            ]
          },
          "metadata": {
            "tags": []
          }
        }
      ]
    },
    {
      "cell_type": "code",
      "metadata": {
        "id": "Be1ADSaYrWYJ",
        "colab_type": "code",
        "colab": {}
      },
      "source": [
        ""
      ],
      "execution_count": null,
      "outputs": []
    },
    {
      "cell_type": "markdown",
      "metadata": {
        "id": "vl2Bzxofs1oX",
        "colab_type": "text"
      },
      "source": [
        "#### Excercise: B) Accuracies"
      ]
    },
    {
      "cell_type": "code",
      "metadata": {
        "id": "x7s_QmJMs1oY",
        "colab_type": "code",
        "colab": {
          "base_uri": "https://localhost:8080/",
          "height": 51
        },
        "outputId": "701e1f2a-45e2-48dc-af84-d192adbc63ed"
      },
      "source": [
        "#%%%%%%%%%%%%%% EXCERCISE - Write the code below %%%%%%%%%%%%%%%%%%%%%%%%%%%\n",
        "\"\"\"\n",
        "Code for comparing the accuracies of the optimal and the naive Bayes classifiers goes here\n",
        "\"\"\"\n",
        "#Optimal Bayes accuracy\n",
        "y_pred = np.array(  [predict_Bayes_class(np.array([xx,yy]),mu_list,sigma_list) \n",
        "                     for xx, yy in zip(np.ravel(X_data[:,0]), np.ravel(X_data[:,1])) ] )\n",
        "print(\"optimal bayes acuracy:\",np.mean(y_pred == y_labels))\n",
        "\n",
        "\n",
        "#Naive Bayes accuracy\n",
        "print(\"naive bayes accuracy:\",model_sk.score(X_data,y_labels))\n"
      ],
      "execution_count": 25,
      "outputs": [
        {
          "output_type": "stream",
          "text": [
            "optimal bayes acuracy: 0.915\n",
            "naive bayes accuracy: 0.915\n"
          ],
          "name": "stdout"
        }
      ]
    }
  ]
}